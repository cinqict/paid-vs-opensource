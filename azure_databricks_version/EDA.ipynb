{
 "cells": [
  {
   "attachments": {},
   "cell_type": "markdown",
   "metadata": {},
   "source": [
    "# Exploratory Data Analysis (EDA)\n",
    "Looking into the data of weather and train disruptions to see if there are any patterns or trends that can be found."
   ]
  },
  {
   "cell_type": "code",
   "execution_count": 62,
   "metadata": {},
   "outputs": [
    {
     "name": "stdout",
     "output_type": "stream",
     "text": []
    }
   ],
   "source": [
    "import pandas as pd\n",
    "import requests\n",
    "import seaborn as sns\n",
    "from pyspark.sql.functions import col"
   ]
  },
  {
   "cell_type": "code",
   "execution_count": 58,
   "metadata": {},
   "outputs": [
    {
     "name": "stdout",
     "output_type": "stream",
     "text": []
    }
   ],
   "source": [
    "def get_historical_weather(\n",
    "    lat=52.377956,\n",
    "    lon=4.897070,\n",
    "    start_date=\"2022-01-01\",\n",
    "    end_date=\"2022-12-31\",\n",
    "    feature_list=[\n",
    "        \"temperature_2m\",\n",
    "        \"relativehumidity_2m\",\n",
    "        \"windspeed_10m\",\n",
    "        \"rain\",\n",
    "    ],\n",
    "):\n",
    "    \"\"\"\n",
    "    Get historical weather data from open-meteo.com\n",
    "\n",
    "    Parameters\n",
    "    ----------\n",
    "    lat: float\n",
    "        Latitude of the location you want to get the weather for.\n",
    "    lon: float\n",
    "        Longitude of the location you want to get the weather for.\n",
    "    start_date: str\n",
    "        Start date of the period you want to get the weather for.\n",
    "    end_date: str\n",
    "        End date of the period you want to get the weather for.\n",
    "    feature_list: list\n",
    "        List of features you want to get the weather for.\n",
    "        Options: \"temperature_2m\", \"relativehumidity_2m\",\n",
    "        \"windspeed_10m\", \"rain\"\n",
    "\n",
    "    Returns\n",
    "    -------\n",
    "    df: pd.DataFrame\n",
    "        Data frame containing the weather data.\n",
    "\n",
    "    Examples\n",
    "    --------\n",
    "    >>> import pandas as pd\n",
    "    >>> from utils import get_historical_weather\n",
    "    >>> df = get_historical_weather()\n",
    "    >>> df.head()\n",
    "\n",
    "    \"\"\"\n",
    "    url = f\"https://archive-api.open-meteo.com/v1/era5?latitude={lat}&longitude={lon}&start_date={start_date}&end_date={end_date}&hourly={','.join(feature_list)}\"\n",
    "    response = requests.get(url)\n",
    "    return pd.DataFrame(response.json()[\"hourly\"])"
   ]
  },
  {
   "cell_type": "code",
   "execution_count": 65,
   "metadata": {},
   "outputs": [
    {
     "name": "stdout",
     "output_type": "stream",
     "text": []
    }
   ],
   "source": [
    "train_df = (\n",
    "    spark.read.load(\"dbfs:/user/hive/warehouse/disruptions_2011_2021\")\n",
    "    .withColumn(\"start_time\", col(\"start_time\").cast(\"string\"))\n",
    "    .withColumn(\"end_time\", col(\"end_time\").cast(\"string\"))\n",
    "    .toPandas()\n",
    "    .assign(\n",
    "        **{\n",
    "            \"start_time\": lambda x: pd.to_datetime(x[\"start_time\"]),\n",
    "            # \"end_time\": lambda x: pd.to_datetime(x[\"end_time\"]),\n",
    "            \"date\": lambda x: pd.to_datetime(x[\"start_time\"]).dt.date,\n",
    "        }\n",
    "    )\n",
    "    .groupby(\"date\")\n",
    "    .agg({\"duration_minutes\": \"sum\"})\n",
    "    # .reset_index()\n",
    ")"
   ]
  },
  {
   "cell_type": "code",
   "execution_count": 66,
   "metadata": {},
   "outputs": [
    {
     "name": "stdout",
     "output_type": "stream",
     "text": []
    }
   ],
   "source": [
    "weather_df = (\n",
    "    get_historical_weather(\n",
    "        lat=52.520008,\n",
    "        lon=13.404954,\n",
    "        start_date=str(train_df.index.min()),\n",
    "        end_date=str(train_df.index.max()),\n",
    "    )\n",
    "    .assign(**{\"date\": lambda x: pd.to_datetime(x[\"time\"]).dt.date})\n",
    "    .groupby(\"date\")\n",
    "    .agg({\"temperature_2m\": [\"mean\", \"min\", \"max\"], \"rain\": \"sum\"})\n",
    ")\n",
    "weather_df.columns = [\"_\".join(col) for col in weather_df.columns]"
   ]
  },
  {
   "cell_type": "code",
   "execution_count": 68,
   "metadata": {},
   "outputs": [
    {
     "name": "stdout",
     "output_type": "stream",
     "text": []
    }
   ],
   "source": [
    "df = (pd.merge(train_df, weather_df, on=\"date\", how=\"left\")\n",
    "      .loc[lambda x: x[\"duration_minutes\"] < 20000] # remove outliers\n",
    "      .dropna()\n",
    "      )"
   ]
  },
  {
   "cell_type": "code",
   "execution_count": 69,
   "metadata": {},
   "outputs": [
    {
     "data": {
      "text/plain": [
       "Out[65]: duration_minutes       float64\n",
       "temperature_2m_mean    float64\n",
       "temperature_2m_min     float64\n",
       "temperature_2m_max     float64\n",
       "rain_sum               float64\n",
       "dtype: object"
      ]
     },
     "metadata": {},
     "output_type": "display_data"
    }
   ],
   "source": [
    "df.dtypes"
   ]
  },
  {
   "cell_type": "code",
   "execution_count": 70,
   "metadata": {},
   "outputs": [
    {
     "data": {
      "application/databricks-table": "{\n\t\"resultType\": \"table\",\n\t\"data\": [\n\t\t[\n\t\t\t132,\n\t\t\t-2.4291666666666667,\n\t\t\t-2.9,\n\t\t\t-1.7,\n\t\t\t0\n\t\t],\n\t\t[\n\t\t\t1022,\n\t\t\t-1.6083333333333334,\n\t\t\t-3.5,\n\t\t\t-0.3,\n\t\t\t0\n\t\t]\n\t],\n\t\"schema\": [\n\t\t{\n\t\t\t\"name\": \"duration_minutes\",\n\t\t\t\"type\": \"\\\"double\\\"\",\n\t\t\t\"metadata\": \"{}\"\n\t\t},\n\t\t{\n\t\t\t\"name\": \"temperature_2m_mean\",\n\t\t\t\"type\": \"\\\"double\\\"\",\n\t\t\t\"metadata\": \"{}\"\n\t\t},\n\t\t{\n\t\t\t\"name\": \"temperature_2m_min\",\n\t\t\t\"type\": \"\\\"double\\\"\",\n\t\t\t\"metadata\": \"{}\"\n\t\t},\n\t\t{\n\t\t\t\"name\": \"temperature_2m_max\",\n\t\t\t\"type\": \"\\\"double\\\"\",\n\t\t\t\"metadata\": \"{}\"\n\t\t},\n\t\t{\n\t\t\t\"name\": \"rain_sum\",\n\t\t\t\"type\": \"\\\"double\\\"\",\n\t\t\t\"metadata\": \"{}\"\n\t\t}\n\t],\n\t\"truncated\": false,\n\t\"isJsonSchema\": true\n}",
      "application/json": [
       {
        "duration_minutes": 132,
        "rain_sum": 0,
        "temperature_2m_max": -1.7,
        "temperature_2m_mean": -2.4291666666666667,
        "temperature_2m_min": -2.9
       },
       {
        "duration_minutes": 1022,
        "rain_sum": 0,
        "temperature_2m_max": -0.3,
        "temperature_2m_mean": -1.6083333333333334,
        "temperature_2m_min": -3.5
       }
      ],
      "text/html": [
       "<div style=\"height:300px;overflow:auto;resize:both;\"><table style=\"width:100%\" class=\"searchable sortable\"><thead><tr><th>duration_minutes</th><th>temperature_2m_mean</th><th>temperature_2m_min</th><th>temperature_2m_max</th><th>rain_sum</th></tr></thead><tbody><tr><td>132</td><td>-2.4291666666666667</td><td>-2.9</td><td>-1.7</td><td>0</td></tr><tr><td>1022</td><td>-1.6083333333333334</td><td>-3.5</td><td>-0.3</td><td>0</td></tr></tbody></table></div>"
      ],
      "text/x-json": [
       "[\n",
       "\t{\n",
       "\t\t\"duration_minutes\": 132,\n",
       "\t\t\"temperature_2m_mean\": -2.4291666666666667,\n",
       "\t\t\"temperature_2m_min\": -2.9,\n",
       "\t\t\"temperature_2m_max\": -1.7,\n",
       "\t\t\"rain_sum\": 0\n",
       "\t},\n",
       "\t{\n",
       "\t\t\"duration_minutes\": 1022,\n",
       "\t\t\"temperature_2m_mean\": -1.6083333333333334,\n",
       "\t\t\"temperature_2m_min\": -3.5,\n",
       "\t\t\"temperature_2m_max\": -0.3,\n",
       "\t\t\"rain_sum\": 0\n",
       "\t}\n",
       "]"
      ]
     },
     "metadata": {},
     "output_type": "display_data"
    }
   ],
   "source": [
    "display(df.head(2))"
   ]
  },
  {
   "cell_type": "code",
   "execution_count": 74,
   "metadata": {},
   "outputs": [
    {
     "data": {
      "image/png": "[encoded data removed]"
     },
     "metadata": {},
     "output_type": "display_data"
    }
   ],
   "source": [
    "_ = sns.lineplot(data=df, x=\"date\", y=\"duration_minutes\")"
   ]
  },
  {
   "cell_type": "code",
   "execution_count": 75,
   "metadata": {},
   "outputs": [
    {
     "data": {
      "text/html": [
       "<div>\n",
       "<style scoped>\n",
       "    .dataframe tbody tr th:only-of-type {\n",
       "        vertical-align: middle;\n",
       "    }\n",
       "\n",
       "    .dataframe tbody tr th {\n",
       "        vertical-align: top;\n",
       "    }\n",
       "\n",
       "    .dataframe thead th {\n",
       "        text-align: right;\n",
       "    }\n",
       "</style>\n",
       "<table border=\"1\" class=\"dataframe\">\n",
       "  <thead>\n",
       "    <tr style=\"text-align: right;\">\n",
       "      <th></th>\n",
       "      <th>duration_minutes</th>\n",
       "      <th>temperature_2m_mean</th>\n",
       "      <th>temperature_2m_min</th>\n",
       "      <th>temperature_2m_max</th>\n",
       "      <th>rain_sum</th>\n",
       "    </tr>\n",
       "  </thead>\n",
       "  <tbody>\n",
       "    <tr>\n",
       "      <th>duration_minutes</th>\n",
       "      <td>1.000000</td>\n",
       "      <td>0.001230</td>\n",
       "      <td>-0.004070</td>\n",
       "      <td>0.003735</td>\n",
       "      <td>0.007548</td>\n",
       "    </tr>\n",
       "    <tr>\n",
       "      <th>temperature_2m_mean</th>\n",
       "      <td>0.001230</td>\n",
       "      <td>1.000000</td>\n",
       "      <td>0.971811</td>\n",
       "      <td>0.986060</td>\n",
       "      <td>0.104311</td>\n",
       "    </tr>\n",
       "    <tr>\n",
       "      <th>temperature_2m_min</th>\n",
       "      <td>-0.004070</td>\n",
       "      <td>0.971811</td>\n",
       "      <td>1.000000</td>\n",
       "      <td>0.927008</td>\n",
       "      <td>0.167871</td>\n",
       "    </tr>\n",
       "    <tr>\n",
       "      <th>temperature_2m_max</th>\n",
       "      <td>0.003735</td>\n",
       "      <td>0.986060</td>\n",
       "      <td>0.927008</td>\n",
       "      <td>1.000000</td>\n",
       "      <td>0.064131</td>\n",
       "    </tr>\n",
       "    <tr>\n",
       "      <th>rain_sum</th>\n",
       "      <td>0.007548</td>\n",
       "      <td>0.104311</td>\n",
       "      <td>0.167871</td>\n",
       "      <td>0.064131</td>\n",
       "      <td>1.000000</td>\n",
       "    </tr>\n",
       "  </tbody>\n",
       "</table>\n",
       "</div>"
      ],
      "text/plain": [
       "<div>\n",
       "<style scoped>\n",
       "    .dataframe tbody tr th:only-of-type {\n",
       "        vertical-align: middle;\n",
       "    }\n",
       "\n",
       "    .dataframe tbody tr th {\n",
       "        vertical-align: top;\n",
       "    }\n",
       "\n",
       "    .dataframe thead th {\n",
       "        text-align: right;\n",
       "    }\n",
       "</style>\n",
       "<table border=\"1\" class=\"dataframe\">\n",
       "  <thead>\n",
       "    <tr style=\"text-align: right;\">\n",
       "      <th></th>\n",
       "      <th>duration_minutes</th>\n",
       "      <th>temperature_2m_mean</th>\n",
       "      <th>temperature_2m_min</th>\n",
       "      <th>temperature_2m_max</th>\n",
       "      <th>rain_sum</th>\n",
       "    </tr>\n",
       "  </thead>\n",
       "  <tbody>\n",
       "    <tr>\n",
       "      <th>duration_minutes</th>\n",
       "      <td>1.000000</td>\n",
       "      <td>0.001230</td>\n",
       "      <td>-0.004070</td>\n",
       "      <td>0.003735</td>\n",
       "      <td>0.007548</td>\n",
       "    </tr>\n",
       "    <tr>\n",
       "      <th>temperature_2m_mean</th>\n",
       "      <td>0.001230</td>\n",
       "      <td>1.000000</td>\n",
       "      <td>0.971811</td>\n",
       "      <td>0.986060</td>\n",
       "      <td>0.104311</td>\n",
       "    </tr>\n",
       "    <tr>\n",
       "      <th>temperature_2m_min</th>\n",
       "      <td>-0.004070</td>\n",
       "      <td>0.971811</td>\n",
       "      <td>1.000000</td>\n",
       "      <td>0.927008</td>\n",
       "      <td>0.167871</td>\n",
       "    </tr>\n",
       "    <tr>\n",
       "      <th>temperature_2m_max</th>\n",
       "      <td>0.003735</td>\n",
       "      <td>0.986060</td>\n",
       "      <td>0.927008</td>\n",
       "      <td>1.000000</td>\n",
       "      <td>0.064131</td>\n",
       "    </tr>\n",
       "    <tr>\n",
       "      <th>rain_sum</th>\n",
       "      <td>0.007548</td>\n",
       "      <td>0.104311</td>\n",
       "      <td>0.167871</td>\n",
       "      <td>0.064131</td>\n",
       "      <td>1.000000</td>\n",
       "    </tr>\n",
       "  </tbody>\n",
       "</table>\n",
       "</div>"
      ]
     },
     "metadata": {},
     "output_type": "display_data"
    }
   ],
   "source": [
    "df.corr()"
   ]
  },
  {
   "cell_type": "code",
   "execution_count": null,
   "metadata": {},
   "outputs": [],
   "source": []
  }
 ],
 "metadata": {
  "language_info": {
   "name": "python"
  },
  "orig_nbformat": 4
 },
 "nbformat": 4,
 "nbformat_minor": 2
}
